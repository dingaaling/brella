{
 "cells": [
  {
   "cell_type": "code",
   "execution_count": 2,
   "metadata": {},
   "outputs": [
    {
     "name": "stderr",
     "output_type": "stream",
     "text": [
      "/Library/Frameworks/Python.framework/Versions/3.5/lib/python3.5/site-packages/IPython/core/interactiveshell.py:2698: DtypeWarning: Columns (9) have mixed types. Specify dtype option on import or set low_memory=False.\n",
      "  interactivity=interactivity, compiler=compiler, result=result)\n"
     ]
    }
   ],
   "source": [
    "import pandas as pd\n",
    "import numpy as np\n",
    "import matplotlib.pyplot as plt\n",
    "\n",
    "#Load Training Dataset\n",
    "flights = pd.read_csv(\"flights.csv\")\n",
    "boston_flights = flights.loc[flights[\"ORIGIN\"]==\"BOS\"]"
   ]
  },
  {
   "cell_type": "code",
   "execution_count": 27,
   "metadata": {},
   "outputs": [
    {
     "name": "stdout",
     "output_type": "stream",
     "text": [
      "        YEAR  MONTH  DAY  DAY_OF_WEEK CARRIER ORIGIN DEST  DEP_TIME_RAW  \\\n",
      "0       2016     11    1            2      UA    BOS  DEN           744   \n",
      "2       2016     11    1            2      UA    BOS  IAD          1940   \n",
      "5       2016     11    1            2      UA    BOS  IAD           550   \n",
      "6       2016     11    1            2      UA    BOS  SFO           600   \n",
      "8       2016     11    1            2      UA    BOS  DEN          1502   \n",
      "9       2016     11    1            2      UA    BOS  SFO          1045   \n",
      "11      2016     11    1            2      UA    BOS  IAD          1430   \n",
      "12      2016     11    1            2      UA    BOS  IAD           935   \n",
      "32      2016     11   20            7      VX    BOS  SFO           715   \n",
      "34      2016     11   20            7      VX    BOS  SFO          1625   \n",
      "35      2016     11   20            7      VX    BOS  SFO          1855   \n",
      "38      2016     11   20            7      VX    BOS  LAX           900   \n",
      "39      2016     11   20            7      VX    BOS  LAX          1745   \n",
      "42      2016     11   21            1      VX    BOS  SFO           715   \n",
      "44      2016     11   21            1      VX    BOS  SFO          1625   \n",
      "45      2016     11   21            1      VX    BOS  SFO          1855   \n",
      "48      2016     11   21            1      VX    BOS  LAX           900   \n",
      "49      2016     11   21            1      VX    BOS  LAX          1745   \n",
      "52      2016     11   22            2      VX    BOS  SFO           715   \n",
      "54      2016     11   22            2      VX    BOS  SFO          1625   \n",
      "55      2016     11   22            2      VX    BOS  SFO          1855   \n",
      "58      2016     11   22            2      VX    BOS  LAX           900   \n",
      "59      2016     11   22            2      VX    BOS  LAX          1745   \n",
      "61      2016     11    5            6      VX    BOS  SFO           725   \n",
      "63      2016     11    5            6      VX    BOS  SFO          1859   \n",
      "66      2016     11    5            6      VX    BOS  LAX           900   \n",
      "67      2016     11    5            6      VX    BOS  LAX          1745   \n",
      "68      2016     11    6            7      VX    BOS  SFO           725   \n",
      "70      2016     11    6            7      VX    BOS  SFO          1859   \n",
      "73      2016     11    6            7      VX    BOS  LAX          1745   \n",
      "...      ...    ...  ...          ...     ...    ...  ...           ...   \n",
      "245561  2017     10   26            4      AS    BOS  SAN          1845   \n",
      "245564  2017     10   27            5      AS    BOS  SEA          1902   \n",
      "245566  2017     10   27            5      AS    BOS  SEA           705   \n",
      "245568  2017     10   27            5      AS    BOS  PDX          1640   \n",
      "245569  2017     10   27            5      AS    BOS  PDX           900   \n",
      "245572  2017     10   27            5      AS    BOS  SEA           930   \n",
      "245573  2017     10   27            5      AS    BOS  SAN          1845   \n",
      "245576  2017     10   28            6      AS    BOS  SEA          1902   \n",
      "245578  2017     10   28            6      AS    BOS  SEA           705   \n",
      "245580  2017     10   28            6      AS    BOS  PDX          1640   \n",
      "245581  2017     10   28            6      AS    BOS  PDX           900   \n",
      "245584  2017     10   28            6      AS    BOS  SEA           930   \n",
      "245585  2017     10   28            6      AS    BOS  SAN          1845   \n",
      "245588  2017     10   29            7      AS    BOS  SEA          1902   \n",
      "245590  2017     10   29            7      AS    BOS  SEA           705   \n",
      "245592  2017     10   29            7      AS    BOS  PDX          1640   \n",
      "245593  2017     10   29            7      AS    BOS  PDX           900   \n",
      "245595  2017     10   29            7      AS    BOS  SEA           930   \n",
      "245596  2017     10   29            7      AS    BOS  SAN          1845   \n",
      "245599  2017     10   30            1      AS    BOS  SEA          1902   \n",
      "245602  2017     10   30            1      AS    BOS  PDX          1640   \n",
      "245603  2017     10   30            1      AS    BOS  PDX           900   \n",
      "245606  2017     10   30            1      AS    BOS  SEA           930   \n",
      "245607  2017     10   30            1      AS    BOS  SAN          1845   \n",
      "245610  2017     10   31            2      AS    BOS  SEA          1902   \n",
      "245612  2017     10   31            2      AS    BOS  SEA           705   \n",
      "245614  2017     10   31            2      AS    BOS  PDX          1640   \n",
      "245615  2017     10   31            2      AS    BOS  PDX           900   \n",
      "245618  2017     10   31            2      AS    BOS  SEA           930   \n",
      "245619  2017     10   31            2      AS    BOS  SAN          1845   \n",
      "\n",
      "        DEP_TIME DEP_BLOCK  DEP_DELAY_NEG  DEP_DELAY  ARR_TIME_RAW  ARR_TIME  \\\n",
      "0       07:44:00        07             -3          0          1029  10:29:00   \n",
      "2       19:40:00        19             -2          0          2120  21:20:00   \n",
      "5       05:50:00        05             -1          0           732  07:32:00   \n",
      "6       06:00:00        06             -4          0           953  09:53:00   \n",
      "8       15:02:00        15              7          7          1749  17:49:00   \n",
      "9       10:45:00        10             32         32          1435  14:35:00   \n",
      "11      14:30:00        14              3          3          1612  16:12:00   \n",
      "12      09:35:00        09             -7          0          1118  11:18:00   \n",
      "32      07:15:00        07              2          2          1100  11:00:00   \n",
      "34      16:25:00        16              1          1          2005  20:05:00   \n",
      "35      18:55:00        18              7          7          2240  22:40:00   \n",
      "38      09:00:00        09              0          0          1235  12:35:00   \n",
      "39      17:45:00        17             -4          0          2120  21:20:00   \n",
      "42      07:15:00        07             -5          0          1100  11:00:00   \n",
      "44      16:25:00        16             -9          0          2005  20:05:00   \n",
      "45      18:55:00        18             -4          0          2240  22:40:00   \n",
      "48      09:00:00        09             -6          0          1235  12:35:00   \n",
      "49      17:45:00        17             -8          0          2120  21:20:00   \n",
      "52      07:15:00        07             -4          0          1100  11:00:00   \n",
      "54      16:25:00        16             -4          0          2005  20:05:00   \n",
      "55      18:55:00        18             -3          0          2240  22:40:00   \n",
      "58      09:00:00        09             -3          0          1235  12:35:00   \n",
      "59      17:45:00        17              2          2          2120  21:20:00   \n",
      "61      07:25:00        07              1          1          1100  11:00:00   \n",
      "63      18:59:00        18              4          4          2240  22:40:00   \n",
      "66      09:00:00        09             18         18          1230  12:30:00   \n",
      "67      17:45:00        17             -5          0          2115  21:15:00   \n",
      "68      07:25:00        07            -11          0          1100  11:00:00   \n",
      "70      18:59:00        18              6          6          2240  22:40:00   \n",
      "73      17:45:00        17             19         19          2115  21:15:00   \n",
      "...          ...       ...            ...        ...           ...       ...   \n",
      "245561  18:45:00        18              3          3          2209  22:09:00   \n",
      "245564  19:02:00        19              1          1          2222  22:22:00   \n",
      "245566  07:05:00         7            -10          0          1035  10:35:00   \n",
      "245568  16:40:00        16            -12          0          1956  19:56:00   \n",
      "245569  09:00:00         9             -3          0          1211  12:11:00   \n",
      "245572  09:30:00         9            -12          0          1253  12:53:00   \n",
      "245573  18:45:00        18            -12          0          2209  22:09:00   \n",
      "245576  19:02:00        19             -2          0          2222  22:22:00   \n",
      "245578  07:05:00         7             -6          0          1035  10:35:00   \n",
      "245580  16:40:00        16            -14          0          1956  19:56:00   \n",
      "245581  09:00:00         9             -7          0          1211  12:11:00   \n",
      "245584  09:30:00         9             -5          0          1253  12:53:00   \n",
      "245585  18:45:00        18            -15          0          2209  22:09:00   \n",
      "245588  19:02:00        19            103        103          2222  22:22:00   \n",
      "245590  07:05:00         7             -6          0          1035  10:35:00   \n",
      "245592  16:40:00        16             45         45          1956  19:56:00   \n",
      "245593  09:00:00         9            -18          0          1211  12:11:00   \n",
      "245595  09:30:00         9            -12          0          1253  12:53:00   \n",
      "245596  18:45:00        18             51         51          2209  22:09:00   \n",
      "245599  19:02:00        19            -10          0          2222  22:22:00   \n",
      "245602  16:40:00        16            -11          0          1956  19:56:00   \n",
      "245603  09:00:00         9              0          0          1211  12:11:00   \n",
      "245606  09:30:00         9             -6          0          1253  12:53:00   \n",
      "245607  18:45:00        18            -12          0          2209  22:09:00   \n",
      "245610  19:02:00        19            -12          0          2222  22:22:00   \n",
      "245612  07:05:00         7            -11          0          1035  10:35:00   \n",
      "245614  16:40:00        16            -15          0          1956  19:56:00   \n",
      "245615  09:00:00         9             -8          0          1211  12:11:00   \n",
      "245618  09:30:00         9             -6          0          1253  12:53:00   \n",
      "245619  18:45:00        18            -20          0          2209  22:09:00   \n",
      "\n",
      "       ARR_BLOCK  ARR_DELAY_NEG  ARR_DELAY  CANCELLED  \n",
      "0             10             -6          0          0  \n",
      "2             21            -12          0          0  \n",
      "5             07            -20          0          0  \n",
      "6             09            -15          0          0  \n",
      "8             17             -6          0          0  \n",
      "9             14             25         25          0  \n",
      "11            16             -6          0          0  \n",
      "12            11             -9          0          0  \n",
      "32            11             -7          0          0  \n",
      "34            20              9          9          0  \n",
      "35            22              0          0          0  \n",
      "38            12            -20          0          0  \n",
      "39            21              3          3          0  \n",
      "42            11              4          4          0  \n",
      "44            20            -20          0          0  \n",
      "45            22            -16          0          0  \n",
      "48            12            -15          0          0  \n",
      "49            21            -15          0          0  \n",
      "52            11             -7          0          0  \n",
      "54            20             -2          0          0  \n",
      "55            22             -2          0          0  \n",
      "58            12            -13          0          0  \n",
      "59            21            -13          0          0  \n",
      "61            11            -23          0          0  \n",
      "63            22            -31          0          0  \n",
      "66            12             -7          0          0  \n",
      "67            21            -42          0          0  \n",
      "68            11            -57          0          0  \n",
      "70            22            -26          0          0  \n",
      "73            21            -24          0          0  \n",
      "...          ...            ...        ...        ...  \n",
      "245561        22            -21          0          0  \n",
      "245564        22            -31          0          0  \n",
      "245566        10            -42          0          0  \n",
      "245568        19            -31          0          0  \n",
      "245569        12            -23          0          0  \n",
      "245572        12            -38          0          0  \n",
      "245573        22            -51          0          0  \n",
      "245576        22             -8          0          0  \n",
      "245578        10            -51          0          0  \n",
      "245580        19            -14          0          0  \n",
      "245581        12            -24          0          0  \n",
      "245584        12            -23          0          0  \n",
      "245585        22            -47          0          0  \n",
      "245588        22             72         72          0  \n",
      "245590        10             -6          0          0  \n",
      "245592        19             23         23          0  \n",
      "245593        12            -14          0          0  \n",
      "245595        12            -21          0          0  \n",
      "245596        22             26         26          0  \n",
      "245599        22            -15          0          0  \n",
      "245602        19            -42          0          0  \n",
      "245603        12            -40          0          0  \n",
      "245606        12            -53          0          0  \n",
      "245607        22            -12          0          0  \n",
      "245610        22             -7          0          0  \n",
      "245612        10            -48          0          0  \n",
      "245614        19            -15          0          0  \n",
      "245615        12            -29          0          0  \n",
      "245618        12            -37          0          0  \n",
      "245619        22            -17          0          0  \n",
      "\n",
      "[121275 rows x 18 columns]\n"
     ]
    }
   ],
   "source": [
    "print(boston_flights)"
   ]
  },
  {
   "cell_type": "markdown",
   "metadata": {},
   "source": [
    "# Delay Statistics"
   ]
  },
  {
   "cell_type": "code",
   "execution_count": 28,
   "metadata": {},
   "outputs": [
    {
     "name": "stdout",
     "output_type": "stream",
     "text": [
      "Average Arrival Delay:  15.7093052979\n",
      "Average Departure Delay:  15.6303854875\n",
      "Average Total Delay:  31.3396907854\n"
     ]
    }
   ],
   "source": [
    "print(\"Average Arrival Delay: \", np.mean(boston_flights[\"ARR_DELAY\"]))\n",
    "print(\"Average Departure Delay: \", np.mean(boston_flights[\"DEP_DELAY\"]))\n",
    "print(\"Average Total Delay: \", np.mean(boston_flights[\"ARR_DELAY\"] + boston_flights[\"DEP_DELAY\"]))"
   ]
  },
  {
   "cell_type": "code",
   "execution_count": 29,
   "metadata": {},
   "outputs": [
    {
     "name": "stdout",
     "output_type": "stream",
     "text": [
      "Number of Boston Departure Delays:  45646\n",
      "Number of Boston Flights:  121275\n",
      "Percent Delayed:  0.37638425066996495\n"
     ]
    }
   ],
   "source": [
    "boston_delay = boston_flights.loc[boston_flights[\"DEP_DELAY\"]>0]\n",
    "print(\"Number of Boston Departure Delays: \", len(boston_delay))\n",
    "print(\"Number of Boston Flights: \", len(boston_flights))\n",
    "print(\"Percent Delayed: \", len(boston_delay)/len(boston_flights))"
   ]
  },
  {
   "cell_type": "code",
   "execution_count": 30,
   "metadata": {},
   "outputs": [
    {
     "name": "stdout",
     "output_type": "stream",
     "text": [
      "Percent Delayed over 30 min:  0.14117501546072975\n"
     ]
    }
   ],
   "source": [
    "boston_delay_30 = boston_flights.loc[boston_flights[\"DEP_DELAY\"]>30]\n",
    "print(\"Percent Delayed over 30 min: \", len(boston_delay_30)/len(boston_flights))"
   ]
  },
  {
   "cell_type": "code",
   "execution_count": 31,
   "metadata": {},
   "outputs": [
    {
     "name": "stdout",
     "output_type": "stream",
     "text": [
      "Percent Delayed over 60 min:  0.08110492681921254\n"
     ]
    }
   ],
   "source": [
    "boston_delay_60 = boston_flights.loc[boston_flights[\"DEP_DELAY\"]>60]\n",
    "print(\"Percent Delayed over 60 min: \", len(boston_delay_60)/len(boston_flights))"
   ]
  },
  {
   "cell_type": "code",
   "execution_count": 44,
   "metadata": {},
   "outputs": [
    {
     "name": "stdout",
     "output_type": "stream",
     "text": [
      "0-0.5 hour delay:  28164\n",
      "0.5-1 hour delay:  7461\n",
      "1-1.5 hour delay:  3910\n",
      "1.5-2 hour delay:  2237\n",
      "2-2.5 hour delay:  1392\n",
      "2.5-3 hour delay:  865\n",
      "3-3.5 hour delay:  530\n",
      "3.5-4 hour delay:  331\n",
      "Greater than 4 hour delay:  756\n"
     ]
    }
   ],
   "source": [
    "print(\"0-0.5 hour delay: \", len(boston_flights[boston_flights[\"DEP_DELAY\"].between(1,29, inclusive=True)]))\n",
    "print(\"0.5-1 hour delay: \", len(boston_flights[boston_flights[\"DEP_DELAY\"].between(30,59, inclusive=True)]))\n",
    "print(\"1-1.5 hour delay: \", len(boston_flights[boston_flights[\"DEP_DELAY\"].between(60,89, inclusive=True)]))\n",
    "print(\"1.5-2 hour delay: \", len(boston_flights[boston_flights[\"DEP_DELAY\"].between(90,119, inclusive=True)]))\n",
    "print(\"2-2.5 hour delay: \", len(boston_flights[boston_flights[\"DEP_DELAY\"].between(120,149, inclusive=True)]))\n",
    "print(\"2.5-3 hour delay: \", len(boston_flights[boston_flights[\"DEP_DELAY\"].between(150,179, inclusive=True)]))\n",
    "print(\"3-3.5 hour delay: \", len(boston_flights[boston_flights[\"DEP_DELAY\"].between(180,209, inclusive=True)]))\n",
    "print(\"3.5-4 hour delay: \", len(boston_flights[boston_flights[\"DEP_DELAY\"].between(210,239, inclusive=True)]))\n",
    "print(\"Greater than 4 hour delay: \", len(boston_flights[boston_flights[\"DEP_DELAY\"]>=240]))"
   ]
  },
  {
   "cell_type": "code",
   "execution_count": 33,
   "metadata": {},
   "outputs": [
    {
     "name": "stdout",
     "output_type": "stream",
     "text": [
      "121275\n"
     ]
    }
   ],
   "source": [
    "print(len(boston_flights))"
   ]
  },
  {
   "cell_type": "code",
   "execution_count": 4,
   "metadata": {},
   "outputs": [
    {
     "name": "stdout",
     "output_type": "stream",
     "text": [
      "No delay:  0.623615749330035\n",
      "0-0.5 hour delay:  0.23223252937538652\n",
      "0.5-1 hour delay:  0.06152133580705009\n",
      "1-1.5 hour delay:  0.03224077509791796\n",
      "1.5-2 hour delay:  0.01844568130282416\n",
      "2-2.5 hour delay:  0.01147804576376005\n",
      "2.5-3 hour delay:  0.007132549989692847\n",
      "3-3.5 hour delay:  0.0043702329416615135\n",
      "3.5-4 hour delay:  0.0027293341579055865\n",
      "Greater than 4 hour delay:  0.006233766233766234\n"
     ]
    }
   ],
   "source": [
    "print(\"No delay: \", len(boston_flights[boston_flights[\"DEP_DELAY\"]==0])/len(boston_flights))\n",
    "print(\"0-0.5 hour delay: \", len(boston_flights[boston_flights[\"DEP_DELAY\"].between(1,29, inclusive=True)])/len(boston_flights))\n",
    "print(\"0.5-1 hour delay: \", len(boston_flights[boston_flights[\"DEP_DELAY\"].between(30,59, inclusive=True)])/len(boston_flights))\n",
    "print(\"1-1.5 hour delay: \", len(boston_flights[boston_flights[\"DEP_DELAY\"].between(60,89, inclusive=True)])/len(boston_flights))\n",
    "print(\"1.5-2 hour delay: \", len(boston_flights[boston_flights[\"DEP_DELAY\"].between(90,119, inclusive=True)])/len(boston_flights))\n",
    "print(\"2-2.5 hour delay: \", len(boston_flights[boston_flights[\"DEP_DELAY\"].between(120,149, inclusive=True)])/len(boston_flights))\n",
    "print(\"2.5-3 hour delay: \", len(boston_flights[boston_flights[\"DEP_DELAY\"].between(150,179, inclusive=True)])/len(boston_flights))\n",
    "print(\"3-3.5 hour delay: \", len(boston_flights[boston_flights[\"DEP_DELAY\"].between(180,209, inclusive=True)])/len(boston_flights))\n",
    "print(\"3.5-4 hour delay: \", len(boston_flights[boston_flights[\"DEP_DELAY\"].between(210,239, inclusive=True)])/len(boston_flights))\n",
    "print(\"Greater than 4 hour delay: \", len(boston_flights[boston_flights[\"DEP_DELAY\"]>=240])/len(boston_flights))"
   ]
  },
  {
   "cell_type": "markdown",
   "metadata": {},
   "source": [
    "# Cancellation Statistics"
   ]
  },
  {
   "cell_type": "code",
   "execution_count": 30,
   "metadata": {},
   "outputs": [
    {
     "name": "stdout",
     "output_type": "stream",
     "text": [
      "Total Boston Flights by Month\n",
      "8     11097\n",
      "7     10913\n",
      "10    10875\n",
      "5     10852\n",
      "6     10700\n",
      "4     10365\n",
      "3     10099\n",
      "9     10059\n",
      "11     9712\n",
      "1      9209\n",
      "12     9193\n",
      "2      8201\n",
      "Name: MONTH, dtype: int64\n",
      "Total Boston Flights by Airline Carrier\n",
      "B6    46773\n",
      "AA    25138\n",
      "DL    15675\n",
      "UA    12090\n",
      "WN    12052\n",
      "NK     4233\n",
      "EV     1824\n",
      "VX     1784\n",
      "AS     1651\n",
      "OO       55\n",
      "Name: CARRIER, dtype: int64\n",
      "Total Boston Flights by Destination Airport\n",
      "DCA    8066\n",
      "ORD    6600\n",
      "ATL    6180\n",
      "LGA    6061\n",
      "BWI    5765\n",
      "PHL    5040\n",
      "EWR    4654\n",
      "JFK    4642\n",
      "LAX    4583\n",
      "SFO    4534\n",
      "MCO    4044\n",
      "CLT    3770\n",
      "DTW    3684\n",
      "DFW    3237\n",
      "DEN    2811\n",
      "FLL    2695\n",
      "MIA    2418\n",
      "IAD    2232\n",
      "CLE    2103\n",
      "RSW    2101\n",
      "MSP    2086\n",
      "SEA    2022\n",
      "RIC    2013\n",
      "TPA    1910\n",
      "PBI    1746\n",
      "RDU    1697\n",
      "BNA    1626\n",
      "PHX    1595\n",
      "PIT    1549\n",
      "MDW    1525\n",
      "       ... \n",
      "SLC    1163\n",
      "SJU    1077\n",
      "SAN    1005\n",
      "STL     948\n",
      "HOU     875\n",
      "AUS     755\n",
      "JAX     696\n",
      "MSY     627\n",
      "CMH     622\n",
      "MKE     621\n",
      "PDX     608\n",
      "MCI     601\n",
      "IND     593\n",
      "CHS     580\n",
      "CVG     545\n",
      "SAV     412\n",
      "DAL     356\n",
      "MYR     347\n",
      "LGB     319\n",
      "SJC     300\n",
      "STT     240\n",
      "SRQ     232\n",
      "ACK     168\n",
      "ACY     132\n",
      "OAK      86\n",
      "MVY      80\n",
      "SMF      74\n",
      "ORF      41\n",
      "SDF       2\n",
      "MSN       1\n",
      "Name: DEST, Length: 63, dtype: int64\n"
     ]
    }
   ],
   "source": [
    "print(\"Total Boston Flights by Month\")\n",
    "print(boston_flights[\"MONTH\"].value_counts())\n",
    "\n",
    "print(\"Total Boston Flights by Airline Carrier\")\n",
    "print(boston_flights[\"CARRIER\"].value_counts())\n",
    "\n",
    "print(\"Total Boston Flights by Destination Airport\")\n",
    "print(boston_flights[\"DEST\"].value_counts())"
   ]
  },
  {
   "cell_type": "code",
   "execution_count": 26,
   "metadata": {},
   "outputs": [
    {
     "name": "stdout",
     "output_type": "stream",
     "text": [
      "45646\n",
      "121275\n"
     ]
    }
   ],
   "source": [
    "boston_delay = boston_flights.loc[boston_flights[\"DEP_DELAY\"]>0]\n",
    "print(len(boston_delay))\n",
    "print(len(boston_flights))"
   ]
  },
  {
   "cell_type": "code",
   "execution_count": 27,
   "metadata": {},
   "outputs": [
    {
     "name": "stdout",
     "output_type": "stream",
     "text": [
      "Total Boston Delay Flights by Month\n",
      "6     5119\n",
      "7     4681\n",
      "5     4561\n",
      "3     4021\n",
      "8     3994\n",
      "4     3893\n",
      "12    3560\n",
      "10    3407\n",
      "9     3245\n",
      "1     3138\n",
      "11    3087\n",
      "2     2940\n",
      "Name: MONTH, dtype: int64\n",
      "Total Boston Delay Flights by Airline Carrier\n",
      "B6    18625\n",
      "AA     7163\n",
      "DL     6023\n",
      "UA     5277\n",
      "WN     4887\n",
      "NK     1680\n",
      "VX      883\n",
      "EV      581\n",
      "AS      503\n",
      "OO       24\n",
      "Name: CARRIER, dtype: int64\n",
      "Total Boston Delay Flights by Destination Airport\n",
      "ATL    2686\n",
      "ORD    2298\n",
      "SFO    2240\n",
      "BWI    2218\n",
      "LAX    2075\n",
      "DCA    2034\n",
      "LGA    1874\n",
      "JFK    1817\n",
      "EWR    1737\n",
      "MCO    1694\n",
      "PHL    1515\n",
      "DEN    1291\n",
      "FLL    1276\n",
      "DTW    1276\n",
      "CLT    1183\n",
      "DFW     972\n",
      "RSW     890\n",
      "PBI     811\n",
      "MSP     810\n",
      "SEA     800\n",
      "MIA     751\n",
      "TPA     742\n",
      "IAD     718\n",
      "RIC     707\n",
      "IAH     703\n",
      "CLE     696\n",
      "SJU     661\n",
      "LAS     646\n",
      "PHX     646\n",
      "BNA     639\n",
      "       ... \n",
      "SLC     555\n",
      "PIT     516\n",
      "BUF     500\n",
      "STL     387\n",
      "SAN     378\n",
      "HOU     360\n",
      "AUS     262\n",
      "MSY     242\n",
      "MKE     232\n",
      "IND     221\n",
      "MCI     217\n",
      "CMH     212\n",
      "PDX     210\n",
      "DAL     209\n",
      "JAX     204\n",
      "LGB     189\n",
      "CHS     188\n",
      "CVG     174\n",
      "SJC     160\n",
      "SAV     138\n",
      "STT     101\n",
      "SRQ      84\n",
      "MYR      76\n",
      "ACK      60\n",
      "OAK      55\n",
      "SMF      45\n",
      "ACY      43\n",
      "MVY      28\n",
      "ORF      10\n",
      "MSN       1\n",
      "Name: DEST, Length: 62, dtype: int64\n"
     ]
    }
   ],
   "source": [
    "print(\"Total Boston Delay Flights by Month\")\n",
    "print(boston_delay[\"MONTH\"].value_counts())\n",
    "\n",
    "print(\"Total Boston Delay Flights by Airline Carrier\")\n",
    "print(boston_delay[\"CARRIER\"].value_counts())\n",
    "\n",
    "print(\"Total Boston Delay Flights by Destination Airport\")\n",
    "print(boston_delay[\"DEST\"].value_counts())"
   ]
  }
 ],
 "metadata": {
  "kernelspec": {
   "display_name": "Python 3",
   "language": "python",
   "name": "python3"
  },
  "language_info": {
   "codemirror_mode": {
    "name": "ipython",
    "version": 3
   },
   "file_extension": ".py",
   "mimetype": "text/x-python",
   "name": "python",
   "nbconvert_exporter": "python",
   "pygments_lexer": "ipython3",
   "version": "3.5.1"
  }
 },
 "nbformat": 4,
 "nbformat_minor": 2
}
