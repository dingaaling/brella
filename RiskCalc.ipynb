{
 "cells": [
  {
   "cell_type": "code",
   "execution_count": 47,
   "metadata": {
    "collapsed": true
   },
   "outputs": [],
   "source": [
    "import pandas as pd\n",
    "import numpy as np\n",
    "import matplotlib.pyplot as plt\n",
    "\n",
    "#Load Training Dataset\n",
    "trainFeatures = pd.read_csv(\"features.csv\",header=None)\n",
    "trainLabels = pd.read_csv(\"labels_reg.csv\", header=None)"
   ]
  },
  {
   "cell_type": "code",
   "execution_count": 48,
   "metadata": {},
   "outputs": [
    {
     "name": "stdout",
     "output_type": "stream",
     "text": [
      "(121275, 109) (121275, 1)\n"
     ]
    }
   ],
   "source": [
    "print(trainFeatures.shape, trainLabels.shape)"
   ]
  },
  {
   "cell_type": "code",
   "execution_count": 70,
   "metadata": {},
   "outputs": [
    {
     "name": "stdout",
     "output_type": "stream",
     "text": [
      "8791\n"
     ]
    }
   ],
   "source": [
    "#Load Full Testing Dataset\n",
    "\n",
    "flights = pd.read_csv(\"jan2016.csv\")\n",
    "testFlights = flights.loc[flights[\"ORIGIN\"]==\"BOS\"]\n",
    "\n",
    "print(len(testFlights))\n",
    "\n",
    "testFlights.to_csv(\"jan2016boston.csv\")\n"
   ]
  },
  {
   "cell_type": "code",
   "execution_count": 12,
   "metadata": {},
   "outputs": [],
   "source": [
    "# Extract Test Features\n",
    "# Feature Vector - 109 features (36 # and 73 categories)\n",
    "# * MONTH * SCHED DEPART TIME * CARRIER * DEST AIRPORT *\n",
    "\n",
    "testFeatures = np.zeros((len(testFlights), 109))\n",
    "carriers = [\"B6\", \"AA\", \"DL\", \"UA\", \"WN\", \"NK\", \"EV\", \"VX\", \"AS\", \"OO\"]\n",
    "airports = ['DCA', 'ORD', 'ATL', 'LGA', 'BWI', 'PHL', 'EWR', 'JFK', 'LAX', 'SFO', 'MCO', 'CLT', 'DTW', 'DFW', 'DEN', 'FLL', 'MIA', 'IAD', 'CLE', 'RSW', 'MSP', 'SEA', 'RIC', 'TPA', 'PBI', 'RDU', 'BNA', 'PHX', 'PIT', 'MDW', 'IAH', 'BUF', 'LAS', 'SLC', 'SJU', 'SAN', 'STL', 'HOU', 'AUS', 'JAX', 'MSY', 'CMH', 'MKE', 'PDX', 'MCI', 'IND', 'CHS', 'CVG', 'SAV', 'DAL', 'MYR', 'LGB', 'SJC', 'STT', 'SRQ', 'ACK', 'ACY', 'OAK', 'MVY', 'SMF', 'ORF', 'SDF', 'MSN']\n",
    "\n",
    "for i in range(0, len(testFlights)):\n",
    "    line = testFlights.iloc[i]\n",
    "    month = line.loc[\"MONTH\"]\n",
    "    departTime = int(line.loc[\"DEP_BLOCK\"])\n",
    "   \n",
    "    carrier = line.loc[\"CARRIER\"]\n",
    "    carrierInd = carriers.index(carrier)\n",
    "    \n",
    "    destAirport = line.loc[\"DEST\"]\n",
    "    destInd = airports.index(destAirport)\n",
    "    \n",
    "    testFeatures[i,month-1]=1\n",
    "    testFeatures[i, departTime+12] = 1\n",
    "    testFeatures[i, carrierInd+12+24-1] =1\n",
    "    testFeatures[i, destInd+12+24+10-1] =1"
   ]
  },
  {
   "cell_type": "code",
   "execution_count": 49,
   "metadata": {},
   "outputs": [
    {
     "name": "stdout",
     "output_type": "stream",
     "text": [
      "[  23.  203.   53. ...,    0.    0.    8.]\n"
     ]
    }
   ],
   "source": [
    "# Extract Test Labels (Regression)\n",
    "testLabels = np.zeros(len(testFlights))\n",
    "one, two, three, four = 0, 0, 0, 0\n",
    "\n",
    "for i in range(0, len(testFlights)):\n",
    "    line = testFlights.iloc[i]\n",
    "    delay = line.loc[\"DEP_DELAY\"]\n",
    "    testLabels[i] = delay\n",
    "        \n",
    "print(testLabels)"
   ]
  },
  {
   "cell_type": "code",
   "execution_count": 17,
   "metadata": {},
   "outputs": [
    {
     "name": "stdout",
     "output_type": "stream",
     "text": [
      "7998 356 288 149\n",
      "[ 0.  3.  1. ...,  0.  0.  0.]\n"
     ]
    }
   ],
   "source": [
    "# Extract Test Labels (Class)\n",
    "\n",
    "testLabels = np.zeros(len(testFlights))\n",
    "one, two, three, four = 0, 0, 0, 0\n",
    "\n",
    "for i in range(0, len(testFlights)):\n",
    "    line = testFlights.iloc[i]\n",
    "    delay = line.loc[\"DEP_DELAY\"]\n",
    "    \n",
    "    if (delay <= 30):\n",
    "        one+=1\n",
    "        testLabels[i] = 0\n",
    "        \n",
    "    elif (30 < delay <= 60):\n",
    "        two+=1\n",
    "        testLabels[i] = 1\n",
    "        \n",
    "    elif (60 < delay <= 120):\n",
    "        three+=1\n",
    "        testLabels[i] = 2\n",
    "        \n",
    "    elif (delay > 120):\n",
    "        four+=1\n",
    "        testLabels[i] = 3\n",
    "\n",
    "print(one,two,three, four)\n",
    "print(testLabels)"
   ]
  },
  {
   "cell_type": "code",
   "execution_count": 50,
   "metadata": {},
   "outputs": [
    {
     "name": "stdout",
     "output_type": "stream",
     "text": [
      "(121275, 109) (121275,) (8791, 109) (8791,)\n"
     ]
    }
   ],
   "source": [
    "trainLabels = np.ravel(trainLabels)\n",
    "testLabels = np.ravel(testLabels)\n",
    "\n",
    "print(trainFeatures.shape, trainLabels.shape, testFeatures.shape, testLabels.shape)"
   ]
  },
  {
   "cell_type": "code",
   "execution_count": 80,
   "metadata": {},
   "outputs": [
    {
     "name": "stdout",
     "output_type": "stream",
     "text": [
      "Test Flights\n",
      "\n",
      "San Francisco\n",
      "VX SFO 203\n",
      "\n",
      "Denver\n",
      "WN DEN 23\n",
      "\n",
      "Miami\n",
      "AA MIA 65\n",
      "\n",
      "New York\n",
      "B6 JFK 0\n"
     ]
    }
   ],
   "source": [
    "print(\"Test Flights\")\n",
    "print(\"\\nSan Francisco\")\n",
    "print(testFlights.iloc[1].loc[\"CARRIER\"], testFlights.iloc[1].loc[\"DEST\"], testFlights.iloc[1].loc[\"DEP_DELAY\"])\n",
    "print(\"\\nDenver\")\n",
    "print(testFlights.iloc[136].loc[\"CARRIER\"], testFlights.iloc[136].loc[\"DEST\"], testFlights.iloc[136].loc[\"DEP_DELAY\"])\n",
    "print(\"\\nMiami\")\n",
    "print(testFlights.iloc[1256].loc[\"CARRIER\"], testFlights.iloc[1256].loc[\"DEST\"], testFlights.iloc[1256].loc[\"DEP_DELAY\"])\n",
    "print(\"\\nNew York\")\n",
    "print(testFlights.iloc[4064].loc[\"CARRIER\"], testFlights.iloc[4064].loc[\"DEST\"], testFlights.iloc[4064].loc[\"DEP_DELAY\"])"
   ]
  },
  {
   "cell_type": "code",
   "execution_count": 63,
   "metadata": {},
   "outputs": [
    {
     "name": "stdout",
     "output_type": "stream",
     "text": [
      "-2.87962782818\n"
     ]
    }
   ],
   "source": [
    "# Regression\n",
    "from sklearn.ensemble import RandomForestRegressor\n",
    "\n",
    "rgr = RandomForestRegressor()\n",
    "rgr.fit(trainFeatures, trainLabels)\n",
    "print(np.mean(testLabels - rgr.predict(testFeatures)))"
   ]
  },
  {
   "cell_type": "code",
   "execution_count": 133,
   "metadata": {},
   "outputs": [
    {
     "name": "stdout",
     "output_type": "stream",
     "text": [
      "Test Flights\n",
      "\n",
      "Houston\n",
      "WN HOU 9 5:50 935\n",
      "Prediction:  [ 0.1375] Actual:  0.0\n",
      "\n",
      "San Francisco\n",
      "UA SFO 17 14:10 1753\n",
      "Prediction:  [ 78.4] Actual:  125.0\n",
      "\n",
      "Palm Beach\n",
      "B6 PBI 25 8:45 1212\n",
      "Prediction:  [ 17.09721758] Actual:  18.0\n",
      "\n",
      "New York\n",
      "DL LGA 27 20:00 2125\n",
      "Prediction:  [ 33.76] Actual:  57.0\n"
     ]
    }
   ],
   "source": [
    "print(\"Test Flights\")\n",
    "print(\"\\nHouston\")\n",
    "ind = 250\n",
    "print(testFlights.iloc[ind].loc[\"CARRIER\"], testFlights.iloc[ind].loc[\"DEST\"], testFlights.iloc[ind].loc[\"DAY\"], testFlights.iloc[ind].loc[\"DEP_TIME\"], testFlights.iloc[ind].loc[\"CRS_ARR_TIME\"])\n",
    "print(\"Prediction: \",rgr.predict(testFeatures[ind].reshape(1, -1)), \"Actual: \",testLabels[ind])\n",
    "print(\"\\nSan Francisco\")\n",
    "ind=282\n",
    "print(testFlights.iloc[ind].loc[\"CARRIER\"], testFlights.iloc[ind].loc[\"DEST\"], testFlights.iloc[ind].loc[\"DAY\"], testFlights.iloc[ind].loc[\"DEP_TIME\"], testFlights.iloc[ind].loc[\"CRS_ARR_TIME\"])\n",
    "print(\"Prediction: \",rgr.predict(testFeatures[ind].reshape(1, -1)), \"Actual: \",testLabels[ind])\n",
    "print(\"\\nPalm Beach\")\n",
    "ind=6000\n",
    "print(testFlights.iloc[ind].loc[\"CARRIER\"], testFlights.iloc[ind].loc[\"DEST\"], testFlights.iloc[ind].loc[\"DAY\"], testFlights.iloc[ind].loc[\"DEP_TIME\"], testFlights.iloc[ind].loc[\"CRS_ARR_TIME\"])\n",
    "print(\"Prediction: \",rgr.predict(testFeatures[ind].reshape(1, -1)), \"Actual: \",testLabels[ind])\n",
    "print(\"\\nNew York\")\n",
    "ind=7411\n",
    "print(testFlights.iloc[ind].loc[\"CARRIER\"], testFlights.iloc[ind].loc[\"DEST\"], testFlights.iloc[ind].loc[\"DAY\"], testFlights.iloc[ind].loc[\"DEP_TIME\"], testFlights.iloc[ind].loc[\"CRS_ARR_TIME\"])\n",
    "print(\"Prediction: \",rgr.predict(testFeatures[ind].reshape(1, -1)), \"Actual: \",testLabels[ind])"
   ]
  },
  {
   "cell_type": "code",
   "execution_count": 84,
   "metadata": {},
   "outputs": [
    {
     "name": "stdout",
     "output_type": "stream",
     "text": [
      "13.3683094344\n",
      "314.716666667\n",
      "0.0\n",
      "8.60006504989\n"
     ]
    }
   ],
   "source": [
    "print(np.mean(rgr.predict(testFeatures)))\n",
    "print(np.max(rgr.predict(testFeatures)))\n",
    "print(np.min(rgr.predict(testFeatures)))\n",
    "print(np.median(rgr.predict(testFeatures)))"
   ]
  }
 ],
 "metadata": {
  "kernelspec": {
   "display_name": "Python 3",
   "language": "python",
   "name": "python3"
  },
  "language_info": {
   "codemirror_mode": {
    "name": "ipython",
    "version": 3
   },
   "file_extension": ".py",
   "mimetype": "text/x-python",
   "name": "python",
   "nbconvert_exporter": "python",
   "pygments_lexer": "ipython3",
   "version": "3.5.1"
  }
 },
 "nbformat": 4,
 "nbformat_minor": 2
}
